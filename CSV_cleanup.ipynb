{
  "nbformat": 4,
  "nbformat_minor": 0,
  "metadata": {
    "colab": {
      "provenance": [],
      "authorship_tag": "ABX9TyNd8+B9nTwnGJz/D/nbALLA",
      "include_colab_link": true
    },
    "kernelspec": {
      "name": "python3",
      "display_name": "Python 3"
    },
    "language_info": {
      "name": "python"
    }
  },
  "cells": [
    {
      "cell_type": "markdown",
      "metadata": {
        "id": "view-in-github",
        "colab_type": "text"
      },
      "source": [
        "<a href=\"https://colab.research.google.com/github/kshakib22/Newspaper-Template-Matching/blob/main/CSV_cleanup.ipynb\" target=\"_parent\"><img src=\"https://colab.research.google.com/assets/colab-badge.svg\" alt=\"Open In Colab\"/></a>"
      ]
    },
    {
      "cell_type": "code",
      "execution_count": 39,
      "metadata": {
        "colab": {
          "base_uri": "https://localhost:8080/"
        },
        "id": "k3dD2rsf1cjE",
        "outputId": "8491e1fd-6130-4eaa-e65e-b543b0759fdf"
      },
      "outputs": [
        {
          "output_type": "stream",
          "name": "stdout",
          "text": [
            "Mounted at /content/drive\n"
          ]
        }
      ],
      "source": [
        "%%capture\n",
        "from google.colab import drive\n",
        "drive.mount('/content/drive', force_remount=True)\n",
        "import os\n",
        "import pandas as pd\n",
        "import pandas as pd\n",
        "from datetime import datetime, timedelta\n",
        "import re\n",
        "import numpy as np\n",
        "from dateutil.parser import parse\n",
        "import pandas as pd"
      ]
    },
    {
      "cell_type": "code",
      "source": [
        "# Import the csv file to be cleaned\n",
        "csv_file_path = '/content/drive/MyDrive/Summer 2023 project/shipping_csv/PE0001107/PE0001107_0008_9.csv'"
      ],
      "metadata": {
        "id": "9GlXyRUL3qUg"
      },
      "execution_count": 65,
      "outputs": []
    },
    {
      "cell_type": "markdown",
      "source": [
        "# Merge dates with months, replace \"\" with previous date &/ month\n",
        "\n",
        "Current code should replace `\"\"` with the previous cell value. This should apply to `,,` and `NaN` as well but should be checked with `print(df)` command. This should be experimented with different formats to see if the specific code applied to that type of error."
      ],
      "metadata": {
        "id": "nRTyIbPmMLP8"
      }
    },
    {
      "cell_type": "code",
      "source": [
        "import pandas as pd\n",
        "\n",
        "# Read the CSV file into a pandas DataFrame\n",
        "df = pd.read_csv(csv_file_path)\n",
        "\n",
        "# Get the column names and their positions\n",
        "columns = df.columns.tolist()\n",
        "print(columns)\n",
        "positions = {name: i for i, name in enumerate(columns)}\n",
        "\n",
        "# Check if the \"Date\" column exists and its position is followed by \"Unnamed: 1\" column\n",
        "# If the date number is in Unnamed column, then merge to Date column\n",
        "if 'Date' in columns and 'Unnamed: 1' in columns and positions['Date'] + 1 == positions['Unnamed: 1']:\n",
        "    print('merging...')\n",
        "    # Merge \"Unnamed: 1\" column with \"Date\" column\n",
        "    df['Unnamed: 1'] = df['Unnamed: 1'].astype(str)\n",
        "    df['Date'] = df['Date'] + df['Unnamed: 1']\n",
        "\n",
        "    # Drop the \"Unnamed: 1\" column\n",
        "    df = df.drop('Unnamed: 1', axis=1)\n",
        "\n",
        "# Remove all spaces in a column named 'Date' in the DataFrame 'df'\n",
        "df['Date'] = df['Date'].str.replace(' ', '')\n",
        "# Replace empty cells or cells containing only a single space with NaN\n",
        "df['Date'] = df['Date'].replace(r'^\\s*$', np.nan, regex=True)\n",
        "# Replace cells containing only \"\" or \" with NaN\n",
        "df['Date'] = df['Date'].replace('\"\"', np.nan)\n",
        "df['Date'] = df['Date'].replace('\"', np.nan)\n",
        "df['Date'] = df['Date'].replace('', np.nan)\n",
        "df['Date'] = df['Date'].replace('-', 1)\n",
        "\n",
        "\n",
        "# Iterate over the DataFrame rows\n",
        "previous_value = None\n",
        "for i in range(len(df)):\n",
        "    if pd.isna(df.loc[i, 'Date']):\n",
        "        df.loc[i, 'Date'] = df.loc[i-1, 'Date']\n",
        "    else:\n",
        "        df.loc[i, 'Date'] = df.loc[i, 'Date'].replace('\"', '')\n",
        "        if df.loc[i, 'Date'].isdigit():\n",
        "            text_match = re.search(r'([A-Za-z]+)', previous_value)\n",
        "            if text_match:\n",
        "                previous_value = text_match.group(0)\n",
        "            df.loc[i, 'Date'] = previous_value + df.loc[i, 'Date']\n",
        "        else:\n",
        "            previous_value = df.loc[i, 'Date']\n",
        "\n",
        "# Replace 'recember' with 'December' in the 'Date' column\n",
        "# df['Date'] = df['Date'].str.replace('recember', 'December')\n",
        "\n",
        "\n",
        "# Rename the columns by shifting their positions because of printing error\n",
        "# df = df.rename(columns={'Consignees': 'Tonnage', 'Cargo': 'Consignees', 'Tonnage': 'Cargo'})\n",
        "\n",
        "\n",
        "# Display the updated dataframe\n",
        "print(df)\n",
        "\n"
      ],
      "metadata": {
        "colab": {
          "base_uri": "https://localhost:8080/"
        },
        "id": "uYd2ixvS4xTc",
        "outputId": "9ca329d6-a53e-401f-f3ef-1752430c9ae1"
      },
      "execution_count": 66,
      "outputs": [
        {
          "output_type": "stream",
          "name": "stdout",
          "text": [
            "['Date', 'Unnamed: 1', 'Port', 'Name', 'Tonnage', 'Consignees', 'Cargo']\n",
            "merging...\n",
            "         Date         Port           Name  Tonnage        Consignees  \\\n",
            "0   February2       Coloso         Morven     1997         Gilk & Co   \n",
            "1   February5        Junin      Rauma SS.     1951      L. J. Garrat   \n",
            "2  February14  Antofagasta      Glenelvan     1756       Gibbs & Co.   \n",
            "3  February16       Taltal            Dee     1115   Inglis L. & Co.   \n",
            "4  February17   Valparaiso     Routenburn     1933       J. A. Brown   \n",
            "5  February20           do   Celtic Queen     1738  Geo. C. Brownell   \n",
            "6  February20     Coquimbo   John Lockett      779               NaN   \n",
            "7  February21   Valparaiso       Valdivia      877   Edmondson & Co.   \n",
            "8  February21      Pisagua  Bay of Biscay     1829               NaN   \n",
            "9  February21      Iquique       Glenfyne      913               NaN   \n",
            "\n",
            "       Cargo  \n",
            "0       Coal  \n",
            "1    Ballast  \n",
            "2       Coal  \n",
            "3       Coal  \n",
            "4       Coal  \n",
            "5  C. & Coal  \n",
            "6    General  \n",
            "7    General  \n",
            "8       Coal  \n",
            "9    Ballast  \n"
          ]
        }
      ]
    },
    {
      "cell_type": "markdown",
      "source": [
        "# Convert to date and add year"
      ],
      "metadata": {
        "id": "Lyxk6bLCNlKZ"
      }
    },
    {
      "cell_type": "code",
      "source": [
        "# Convert the Date column to datetime format if column type is string\n",
        "if df['Date'].dtype == 'object':\n",
        "    df['Date'] = df['Date'].apply(lambda x: parse(x + ' 1904', fuzzy=True) if isinstance(x, str) else x)\n"
      ],
      "metadata": {
        "id": "RZ2evs8SRIfm"
      },
      "execution_count": 67,
      "outputs": []
    },
    {
      "cell_type": "markdown",
      "source": [
        "# Deal with empty values; duplicating Port, Consignees names appearing with do or \"\n",
        "\n",
        "Empty values/NaN in Consignees are replaced with string empty. Any following cells with 'do' is replaced with the previous cell value. Trailing periods are also removed."
      ],
      "metadata": {
        "id": "tf5y4dQuNwcc"
      }
    },
    {
      "cell_type": "code",
      "source": [
        "# Replace 'do' with the previous cell value in 'Port' column\n",
        "df['Port'] = df['Port'].replace('do', method='pad')\n",
        "\n",
        "# Replace 'do' with the previous cell value in 'Consignees' column\n",
        "df['Consignees'] = df['Consignees'].replace('do', method='pad')\n",
        "\n",
        "# Replace NaN with 'empty' in 'Port' column\n",
        "df['Port'] = df['Port'].fillna('empty')\n",
        "\n",
        "# Remove trailing dots (...) from the Name and Consignees column\n",
        "df['Name'] = df['Name'].str.rstrip('.')\n",
        "df['Consignees'] = df['Consignees'].str.rstrip('.')\n",
        "\n",
        "\n",
        "# Replace NaN with 'empty' in 'Consignees' column\n",
        "df['Consignees'] = df['Consignees'].fillna('empty')\n",
        "\n",
        "\n",
        "# Display the updated dataframe\n",
        "print(df)"
      ],
      "metadata": {
        "colab": {
          "base_uri": "https://localhost:8080/"
        },
        "id": "IdeATqeQXKRH",
        "outputId": "e917123d-7711-4994-e263-e76976f73d22"
      },
      "execution_count": 68,
      "outputs": [
        {
          "output_type": "stream",
          "name": "stdout",
          "text": [
            "        Date         Port           Name  Tonnage        Consignees      Cargo\n",
            "0 1904-02-02       Coloso         Morven     1997         Gilk & Co       Coal\n",
            "1 1904-02-05        Junin       Rauma SS     1951      L. J. Garrat    Ballast\n",
            "2 1904-02-14  Antofagasta      Glenelvan     1756        Gibbs & Co       Coal\n",
            "3 1904-02-16       Taltal            Dee     1115    Inglis L. & Co       Coal\n",
            "4 1904-02-17   Valparaiso     Routenburn     1933       J. A. Brown       Coal\n",
            "5 1904-02-20   Valparaiso   Celtic Queen     1738  Geo. C. Brownell  C. & Coal\n",
            "6 1904-02-20     Coquimbo   John Lockett      779             empty    General\n",
            "7 1904-02-21   Valparaiso       Valdivia      877    Edmondson & Co    General\n",
            "8 1904-02-21      Pisagua  Bay of Biscay     1829             empty       Coal\n",
            "9 1904-02-21      Iquique       Glenfyne      913             empty    Ballast\n"
          ]
        }
      ]
    },
    {
      "cell_type": "markdown",
      "source": [
        "# Save output\n",
        "\n",
        "Cleaned dataframe is saved to path `output` as .csv file"
      ],
      "metadata": {
        "id": "m097b3j6OPGo"
      }
    },
    {
      "cell_type": "code",
      "source": [
        "output = '/content/drive/MyDrive/Summer 2023 project/shipping_csv_cleaned/PE0001107/'\n",
        "\n",
        "# Extract the filename without the extension\n",
        "filename = os.path.splitext(os.path.basename(csv_file_path))[0]\n",
        "\n",
        "# Construct the output CSV file path\n",
        "output_path = os.path.join(output, filename + '.csv')\n",
        "\n",
        "# Save the DataFrame as a CSV file\n",
        "df.to_csv(output_path, index=False)\n",
        "print('File saved at path {}'.format(output_path))"
      ],
      "metadata": {
        "colab": {
          "base_uri": "https://localhost:8080/"
        },
        "id": "dumB6m_ROR9J",
        "outputId": "99b6367f-32e1-4e1d-d303-4386ce423f78"
      },
      "execution_count": 69,
      "outputs": [
        {
          "output_type": "stream",
          "name": "stdout",
          "text": [
            "File saved at path /content/drive/MyDrive/Summer 2023 project/shipping_csv_cleaned/PE0001107/PE0001107_0008_9.csv\n"
          ]
        }
      ]
    }
  ]
}