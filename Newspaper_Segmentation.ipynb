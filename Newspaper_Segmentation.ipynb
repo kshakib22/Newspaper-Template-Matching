{
  "nbformat": 4,
  "nbformat_minor": 0,
  "metadata": {
    "colab": {
      "provenance": [],
      "collapsed_sections": [
        "74Z6Jx64-juq",
        "V6l8P8Qe9Se7",
        "3bCKLUU_9atN",
        "6rtP0HY5C017"
      ],
      "mount_file_id": "175qZJEraIPbVF-sQFCenA_2ZhsufG9Pw",
      "authorship_tag": "ABX9TyM+JuKZUPTg8m1CKYHPcsU+",
      "include_colab_link": true
    },
    "kernelspec": {
      "name": "python3",
      "display_name": "Python 3"
    },
    "language_info": {
      "name": "python"
    }
  },
  "cells": [
    {
      "cell_type": "markdown",
      "metadata": {
        "id": "view-in-github",
        "colab_type": "text"
      },
      "source": [
        "<a href=\"https://colab.research.google.com/github/kshakib22/Newspaper-image-segmentation/blob/main/Newspaper_Segmentation.ipynb\" target=\"_parent\"><img src=\"https://colab.research.google.com/assets/colab-badge.svg\" alt=\"Open In Colab\"/></a>"
      ]
    },
    {
      "cell_type": "markdown",
      "source": [
        "# Installing modules"
      ],
      "metadata": {
        "id": "aHttZMRA-dlt"
      }
    },
    {
      "cell_type": "code",
      "execution_count": null,
      "metadata": {
        "id": "nwY3ODVVQL4K"
      },
      "outputs": [],
      "source": [
        "!pip install pytesseract\n",
        "!pip install PyMuPDF\n",
        "!pip install tesseract-ocr\n",
        "!sudo apt install tesseract-ocr\n",
        "!sudo apt install libtesseract-dev\n",
        "!pip install scikit-image\n",
        "!pip install opencv-python"
      ]
    },
    {
      "cell_type": "markdown",
      "source": [
        "# Importing modules and drive mounting"
      ],
      "metadata": {
        "id": "74Z6Jx64-juq"
      }
    },
    {
      "cell_type": "code",
      "source": [
        "import os\n",
        "import cv2\n",
        "import pytesseract\n",
        "import cv2\n",
        "import numpy as np\n",
        "import fitz\n",
        "from google.colab.patches import cv2_imshow\n",
        "from google.colab import drive\n",
        "drive.mount('/content/drive', force_remount=True)\n"
      ],
      "metadata": {
        "colab": {
          "base_uri": "https://localhost:8080/"
        },
        "id": "pZ_Jiit-QhV_",
        "outputId": "dd5a5400-ba81-4c2d-8ac7-1872594d0133"
      },
      "execution_count": 15,
      "outputs": [
        {
          "output_type": "stream",
          "name": "stdout",
          "text": [
            "Mounted at /content/drive\n"
          ]
        }
      ]
    },
    {
      "cell_type": "markdown",
      "source": [
        "# Image Conversion from PDF\n"
      ],
      "metadata": {
        "id": "V6l8P8Qe9Se7"
      }
    },
    {
      "cell_type": "code",
      "source": [
        "def pdf_to_images(pdf_path, output_dir, dpi=300):\n",
        "    # Create the output directory if it doesn't exist\n",
        "    if not os.path.exists(output_dir):\n",
        "        os.makedirs(output_dir)\n",
        "\n",
        "    # Open the PDF file\n",
        "    pdf_file = fitz.open(pdf_path)\n",
        "\n",
        "    # Iterate over each page in the PDF\n",
        "    for page_num in range(pdf_file.page_count):\n",
        "        # Select the page\n",
        "        page = pdf_file.load_page(page_num)\n",
        "\n",
        "        # Set the DPI for the output image\n",
        "        zoom = dpi / 72.0\n",
        "\n",
        "        # Convert the page to an image\n",
        "        pix = page.get_pixmap(matrix=fitz.Matrix(zoom, zoom))\n",
        "\n",
        "        # Save the image to the output directory\n",
        "        image_path = os.path.join(output_dir, f\"page_{page_num+1}.jpg\")\n",
        "        pix.save(image_path, \"JPEG\", jpg_quality=90)\n",
        "        print(f\"Image saved: {image_path}\")\n",
        "\n",
        "    # Close the PDF file\n",
        "    pdf_file.close()\n"
      ],
      "metadata": {
        "id": "8VN5wvZAQwD4"
      },
      "execution_count": 3,
      "outputs": []
    },
    {
      "cell_type": "code",
      "source": [
        "pdf_file = '/content/drive/MyDrive/Summer 2023 project/Star_of-Chile01.pdf'\n",
        "output_image = '/content/drive/MyDrive/Summer 2023 project/Images/'"
      ],
      "metadata": {
        "id": "JsCc7XI8mPGS"
      },
      "execution_count": 4,
      "outputs": []
    },
    {
      "cell_type": "code",
      "source": [
        "pdf_to_images(pdf_file, output_image)"
      ],
      "metadata": {
        "id": "63X6C3UTmqih"
      },
      "execution_count": null,
      "outputs": []
    },
    {
      "cell_type": "markdown",
      "source": [
        "# Text Segmentation"
      ],
      "metadata": {
        "id": "yzg8gmEF-RPl"
      }
    },
    {
      "cell_type": "code",
      "source": [
        "image = cv2.imread('/content/drive/MyDrive/Summer 2023 project/Images/charter2.jpg')\n",
        "template = cv2.imread('/content/drive/MyDrive/Summer 2023 project/Images/template 1.jpg')\n",
        "\n",
        "template_gray = cv2.cvtColor(template, cv2.COLOR_BGR2GRAY)\n",
        "image_gray = cv2.cvtColor(image, cv2.COLOR_BGR2GRAY)\n",
        "\n",
        "result = cv2.matchTemplate(image_gray, template_gray, cv2.TM_CCOEFF_NORMED)\n",
        "threshold = 0.13  # Adjust this value based on the matching performance\n",
        "locations = np.where(result >= threshold)\n",
        "\n",
        "column_width, column_height = template_gray.shape[::-1]  # Get the width and height of the template\n",
        "for loc in zip(*locations[::-1]):\n",
        "    top_left = loc\n",
        "    bottom_right = (top_left[0] + column_width, top_left[1] + column_height)\n",
        "\n",
        "    # Crop and save the wanted portion\n",
        "    cropped_image = image[top_left[1]:bottom_right[1], top_left[0]:bottom_right[0]]\n",
        "    cv2.imwrite('/content/drive/MyDrive/Summer 2023 project/Images/cropped_image_cv2.jpg', cropped_image)\n",
        "\n",
        "    # Draw a rectangle around the wanted portion\n",
        "    cv2.rectangle(image, top_left, bottom_right, (0, 255, 0), 6)\n",
        "\n",
        "# Save the resulting image with the green rectangle outline\n",
        "output_path_cv2 = '/content/drive/MyDrive/Summer 2023 project/Images/output_image_cv2.jpg'\n",
        "cv2.imwrite(output_path_cv2, cv2.cvtColor(image, cv2.COLOR_RGB2BGR))\n",
        "print(f\"Image saved successfully to '{output_path_cv2}'\")"
      ],
      "metadata": {
        "colab": {
          "base_uri": "https://localhost:8080/"
        },
        "id": "s6jXNvOp-UUe",
        "outputId": "9756d0d0-0ba5-4cb6-d49f-a06d6211f072"
      },
      "execution_count": 114,
      "outputs": [
        {
          "output_type": "stream",
          "name": "stdout",
          "text": [
            "Image saved successfully to '/content/drive/MyDrive/Summer 2023 project/Images/output_image_cv2.jpg'\n"
          ]
        }
      ]
    },
    {
      "cell_type": "markdown",
      "source": [
        "# Second text segmentation"
      ],
      "metadata": {
        "id": "nhIq5HkpMlLk"
      }
    },
    {
      "cell_type": "code",
      "source": [
        "image2 = cv2.imread('/content/drive/MyDrive/Summer 2023 project/Images/charter1.jpg')\n",
        "template2 = cv2.imread('/content/drive/MyDrive/Summer 2023 project/Images/template 2.jpg')\n",
        "\n",
        "template_gray = cv2.cvtColor(template2, cv2.COLOR_BGR2GRAY)\n",
        "image_gray = cv2.cvtColor(image2, cv2.COLOR_BGR2GRAY)\n",
        "\n",
        "result = cv2.matchTemplate(image_gray, template_gray, cv2.TM_CCOEFF_NORMED)\n",
        "threshold = 0.24  # Adjust this value based on the matching performance\n",
        "locations = np.where(result >= threshold)\n",
        "\n",
        "column_width, column_height = template_gray.shape[::-1]  # Get the width and height of the template\n",
        "for loc in zip(*locations[::-1]):\n",
        "    top_left = loc\n",
        "    bottom_right = (top_left[0] + column_width, top_left[1] + column_height)\n",
        "    cv2.rectangle(image2, top_left, bottom_right, (0, 255, 0), 6)\n",
        "\n",
        "# Save the resulting image with the green rectangle outline\n",
        "output_path_cv2_second = '/content/drive/MyDrive/Summer 2023 project/Images/output_image_cv2_second.jpg'\n",
        "cv2.imwrite(output_path_cv2_second, cv2.cvtColor(image2, cv2.COLOR_RGB2BGR))\n",
        "print(f\"Image saved successfully to '{output_path_cv2_second}'\")"
      ],
      "metadata": {
        "colab": {
          "base_uri": "https://localhost:8080/"
        },
        "id": "pfyg6KbxMpC8",
        "outputId": "75868f5e-f71c-47d3-a27b-8a0499944942"
      },
      "execution_count": 113,
      "outputs": [
        {
          "output_type": "stream",
          "name": "stdout",
          "text": [
            "Image saved successfully to '/content/drive/MyDrive/Summer 2023 project/Images/output_image_cv2_second.jpg'\n"
          ]
        }
      ]
    },
    {
      "cell_type": "markdown",
      "source": [
        "# Image Pre-Processing, text generation\n",
        "\n"
      ],
      "metadata": {
        "id": "3bCKLUU_9atN"
      }
    },
    {
      "cell_type": "code",
      "source": [
        "# Load the newspaper image\n",
        "image = cv2.imread('/content/drive/MyDrive/Summer 2023 project/Images/cropped_image_cv2.jpg')\n",
        "\n",
        "# Preprocessing: Convert to grayscale\n",
        "gray = cv2.cvtColor(image, cv2.COLOR_BGR2GRAY)\n"
      ],
      "metadata": {
        "id": "vWhxwmQUupVU"
      },
      "execution_count": 149,
      "outputs": []
    },
    {
      "cell_type": "code",
      "source": [
        "\n",
        "# OCR: Extract text from the image\n",
        "text = pytesseract.image_to_string(gray, config='--psm 11 --oem 1')\n",
        "\n",
        "print(text)"
      ],
      "metadata": {
        "id": "6MckGt2PmPkT"
      },
      "execution_count": null,
      "outputs": []
    },
    {
      "cell_type": "code",
      "source": [
        "image = cv2.imread('/content/drive/MyDrive/Summer 2023 project/Images/cropped_image_cv2.jpg', cv2.IMREAD_GRAYSCALE)\n",
        "_, binary_image = cv2.threshold(image, 0, 255, cv2.THRESH_BINARY | cv2.THRESH_OTSU)\n",
        "\n",
        "text = pytesseract.image_to_string(binary_image, config='--psm 11')\n",
        "print(text)\n"
      ],
      "metadata": {
        "id": "sI78kFPuoRSB",
        "outputId": "be2540ea-9eaa-4fa2-9ed8-47a2bfbf083c",
        "colab": {
          "base_uri": "https://localhost:8080/"
        }
      },
      "execution_count": 154,
      "outputs": [
        {
          "output_type": "stream",
          "name": "stdout",
          "text": [
            "CHARTERS.\n",
            "\n",
            "Int\n",
            "\n",
            "An\n",
            "\n",
            "Bolivia,\n",
            "\n",
            "878\n",
            "\n",
            "Produce for\n",
            "\n",
            "Hurope\n",
            "\n",
            "H.C.\n",
            "\n",
            "Ag\n",
            "\n",
            "Jacqueline,\n",
            "\n",
            "2451\n",
            "\n",
            "Proceeds to\n",
            "\n",
            "Australia\n",
            "\n",
            "La\n",
            "\n",
            "Teresa\n",
            "\n",
            "eter ee eee\n",
            "\n",
            "1801\n",
            "\n",
            "Nitrate for\n",
            "\n",
            "H. 0\n",
            "\n",
            "La\n",
            "\n",
            "Michele Bianchi\n",
            "\n",
            "1657\n",
            "\n",
            "Hurope\n",
            "\n",
            "La\n",
            "\n",
            "”\n",
            "\n",
            "”\n",
            "\n",
            "”\n",
            "\n",
            "”\n",
            "\n",
            "La\n",
            "\n",
            "Falls of Dee..\n",
            "\n",
            "1845\n",
            "\n",
            "”\n",
            "\n",
            "”\n",
            "\n",
            "\"\n",
            "\n",
            "Atlantique.\n",
            "\n",
            "2470\n",
            "\n",
            "”\n",
            "\n",
            "”\n",
            "\n",
            "”\n",
            "\n",
            "Ojale\n",
            "\n",
            "Sar\n",
            "\n",
            "Cerro Alegre.\n",
            "\n",
            "1344\n",
            "\n",
            ",\n",
            "\n",
            "»\n",
            "\n",
            "”\n",
            "\n",
            "”\n",
            "\n",
            "Va\n",
            "\n",
            "Sir Robert Fergie\n",
            "\n",
            "2410\n",
            "\n",
            "”\n",
            "\n",
            "”\n",
            "\n",
            "”\n",
            "\n",
            "H.C\n",
            "\n",
            "W. J. Pirri\n",
            "\n",
            "2398\n",
            "\n",
            ",\n",
            "\n",
            "”\n",
            "\n",
            "”\n",
            "\n",
            "”\n",
            "\n",
            "Christine.\n",
            "\n",
            "1900\n",
            "\n",
            "Sor\n",
            "\n",
            "”\n",
            "\n",
            "”\n",
            "\n",
            "”\n",
            "\n",
            "rT\n",
            "\n",
            "Do\n",
            "\n",
            "Mennoch.\n",
            "\n",
            "187\n",
            "\n",
            "”\n",
            "\n",
            "”\n",
            "\n",
            "”\n",
            "\n",
            "”\n",
            "\n",
            "La\n",
            "\n",
            "DISPOSABLE TONNAGE ON\n",
            "\n",
            "since last issue.\n",
            "\n",
            "Closing prices $5.30 to\n",
            "\n",
            "La\n",
            "\n",
            "COAST.\n",
            "\n",
            "$5,50 for Santiago brands; $5.50 to $5.90\n",
            "\n",
            "La\n",
            "\n",
            "—\n",
            "\n",
            "Southern Cylinder and $5.20 to $5.40 fo\n",
            "\n",
            "La\n",
            "\n",
            "2570\n",
            "\n",
            "stone,\n",
            "\n",
            "La\n",
            "\n",
            "Ancona,..\n",
            "\n",
            "La\n",
            "\n",
            "Aleyone,.\n",
            "\n",
            "2148\n",
            "\n",
            "La\n",
            "\n",
            "Chile,..\n",
            "\n",
            "2054\n",
            "\n",
            "WHEAT,\n",
            "\n",
            "La\n",
            "\n",
            "Dora, ..\n",
            "\n",
            "1184\n",
            "\n",
            "La\n",
            "\n",
            "Iverna,\n",
            "\n",
            "2220\n",
            "\n",
            "The European quotation is 31/ to 31/3.\n",
            "\n",
            "La\n",
            "\n",
            "Lurlei,...\n",
            "\n",
            "803\n",
            "\n",
            "Tia\n",
            "\n",
            "Pass of Brander.\n",
            "\n",
            "1993\n",
            "\n",
            "Exporters could afford to pay $6-, bulk,\n",
            "\n",
            "Tu\n",
            "\n",
            "La\n",
            "\n",
            "f. o, b. Taleahuano per 76.36 kilos.\n",
            "\n",
            "Wayfarer..\n",
            "\n",
            "1935\n",
            "\n",
            "Santiago the market is firmer; the price\n",
            "\n",
            "La\n",
            "\n",
            "Pass of Killiecrankie,\n",
            "\n",
            "1609\n",
            "\n",
            "yesterday being $5.30 bulk per 72 kilos,\n",
            "\n",
            "La\n",
            "\n",
            "Benicia,\n",
            "\n",
            "1810\n",
            "\n",
            "La\n",
            "\n",
            "County of Flint,\n",
            "\n",
            "1023\n",
            "\n",
            "La\n",
            "\n",
            "Gael,\n",
            "\n",
            "1516\n",
            "\n",
            "BARLEY,\n",
            "\n",
            "La\n",
            "\n",
            "2169\n",
            "\n",
            "La\n",
            "\n",
            "Galena,\n",
            "\n",
            "The\n",
            "\n",
            "market continues firm.\n",
            "\n",
            "A few\n",
            "\n",
            "La\n",
            "\n",
            "Gladys,\n",
            "\n",
            "1345\n",
            "\n",
            "La\n",
            "\n",
            "Lydgate, .\n",
            "\n",
            "aaan\n",
            "\n",
            "2350\n",
            "\n",
            "placed\n",
            "\n",
            "transactions have taken place at $4.40\n",
            "\n",
            "in\n",
            "\n",
            "ears\n",
            "\n",
            "Bellavista.\n",
            "\n",
            "and\n",
            "\n",
            "Ra 70\n",
            "\f\n"
          ]
        }
      ]
    },
    {
      "cell_type": "markdown",
      "source": [],
      "metadata": {
        "id": "4Y_W0BH4-RFb"
      }
    },
    {
      "cell_type": "markdown",
      "source": [
        "# Alternative text segmentation (under test)"
      ],
      "metadata": {
        "id": "6rtP0HY5C017"
      }
    },
    {
      "cell_type": "code",
      "source": [
        "from skimage import io\n",
        "from skimage.feature import match_template\n",
        "from skimage.draw import rectangle_perimeter\n",
        "\n",
        "image = io.imread('/content/drive/MyDrive/Summer 2023 project/Images/charter2.jpg')\n",
        "template = io.imread('/content/drive/MyDrive/Summer 2023 project/Images/template 1.jpg')\n",
        "\n",
        "# Convert the images to grayscale\n",
        "image_gray = np.mean(image, axis=2).astype(np.uint8)\n",
        "template_gray = np.mean(template, axis=2).astype(np.uint8)\n",
        "\n",
        "# Perform template matching\n",
        "result = match_template(image_gray, template_gray)\n",
        "\n",
        "# Set a threshold for the matching result\n",
        "threshold = 0.11\n",
        "\n",
        "# Find the locations of matches above the threshold\n",
        "locations = np.where(result >= threshold)\n",
        "\n",
        "# Iterate over the locations and draw rectangles around the matched columns\n",
        "for loc in zip(*locations):\n",
        "    top_left = loc[::-1]\n",
        "    bottom_right = (top_left[0] + column_width, top_left[1] + column_height)\n",
        "    rr, cc = rectangle_perimeter(top_left, extent=(column_height, column_width), shape=image_gray.shape, clip=True)\n",
        "    image[rr, cc] = [0, 255, 0]  # Draw a green rectangle outline\n",
        "\n",
        "\n",
        "# Save the resulting image with the green rectangle\n",
        "output_path_sci = '/content/drive/MyDrive/Summer 2023 project/Images/output_image_sci.jpg'\n",
        "io.imsave(output_path_sci, image)\n",
        "print(f\"Image saved successfully to '{output_path_sci}'\")\n"
      ],
      "metadata": {
        "colab": {
          "base_uri": "https://localhost:8080/"
        },
        "id": "W3BL0tXBC9am",
        "outputId": "af3333d3-0274-4a4b-828f-5b5155fb205e"
      },
      "execution_count": 97,
      "outputs": [
        {
          "output_type": "stream",
          "name": "stdout",
          "text": [
            "Image saved successfully to '/content/drive/MyDrive/Summer 2023 project/Images/output_image_sci.jpg'\n"
          ]
        }
      ]
    }
  ]
}